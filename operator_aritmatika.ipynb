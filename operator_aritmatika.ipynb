{
  "nbformat": 4,
  "nbformat_minor": 0,
  "metadata": {
    "colab": {
      "provenance": [],
      "authorship_tag": "ABX9TyOPAisGdife5n8HgC2Zhe2i",
      "include_colab_link": true
    },
    "kernelspec": {
      "name": "python3",
      "display_name": "Python 3"
    },
    "language_info": {
      "name": "python"
    }
  },
  "cells": [
    {
      "cell_type": "markdown",
      "metadata": {
        "id": "view-in-github",
        "colab_type": "text"
      },
      "source": [
        "<a href=\"https://colab.research.google.com/github/Gyurei/Tugas/blob/main/operator_aritmatika.ipynb\" target=\"_parent\"><img src=\"https://colab.research.google.com/assets/colab-badge.svg\" alt=\"Open In Colab\"/></a>"
      ]
    },
    {
      "cell_type": "code",
      "execution_count": null,
      "metadata": {
        "id": "cKBkKISLJhFr"
      },
      "outputs": [],
      "source": []
    },
    {
      "cell_type": "markdown",
      "source": [
        "# **Operator Aritmatika**\n",
        "\n",
        "Apa itu operator aritmatika?\n",
        "\n",
        "Operator Aritmatika adalah simboldan fungsi yang di gunakan untuk melakukan operasi Matematika dalam program komputer seperti penujmlahan, pengurangan, perkalian dan pembagian, contoh operator yang umum di gunakan :\n",
        "\n",
        "\n",
        "\n",
        "1. Pertambahan (+)\n",
        "\n",
        "    Digunakan untuk menambahkan 2 angka contoh : 5+3 = 8\n",
        "\n",
        "2. Pengurangan (-)\n",
        "\n",
        "   Digunakan untuk mengurangi 1 angka dari keduanya contoh : 5-3 = 2\n",
        "\n",
        "3. Perkalian (*)\n",
        "\n",
        "   Digunakan untuk mengalikan 2 angka contoh : 5*3 = 15\n",
        "\n",
        "4. Pembagian (/)\n",
        "\n",
        "   Digunakan untuk membagi 1 angka dengan angka lainya cotoh : 4/2 = 2\n",
        "\n",
        "5. Pangkat (**)\n",
        "\n",
        "   Digunakan untuk mengitung hasil pangkat dari 1 angka contoh : 2**3 = 8\n",
        "\n",
        "6. Modulus (%)\n",
        "\n",
        "  Digunakan untuk menghasilkan sisa dari pembagian 2 angka contoh : 5%2 = 1\n",
        "\n",
        "Berikut tabel Aritmatika :\n",
        "\n",
        "![download.png](data:image/png;base64,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)\n",
        "\n",
        "\n",
        "Contoh codingan:"
      ],
      "metadata": {
        "id": "Df3EAEcrJ-w5"
      }
    },
    {
      "cell_type": "code",
      "source": [
        "angka1= int(input(\" Masukin Angka Pertama\"))\n",
        "angka2= int(input(\" Masukin Angka Pertama\"))\n",
        "hasil = angka1+angka2\n",
        "print(hasil)"
      ],
      "metadata": {
        "colab": {
          "base_uri": "https://localhost:8080/"
        },
        "id": "BIDPDZIHQcRs",
        "outputId": "713317a6-524f-44f0-8a18-0da612f0424d"
      },
      "execution_count": 2,
      "outputs": [
        {
          "output_type": "stream",
          "name": "stdout",
          "text": [
            " Masukin Angka Pertama1000\n",
            " Masukin Angka Pertama790\n",
            "1790\n"
          ]
        }
      ]
    }
  ]
}