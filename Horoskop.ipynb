{
  "nbformat": 4,
  "nbformat_minor": 0,
  "metadata": {
    "colab": {
      "provenance": [],
      "authorship_tag": "ABX9TyPjiNwVcOOf9PnEuHB5qSbj",
      "include_colab_link": true
    },
    "kernelspec": {
      "name": "python3",
      "display_name": "Python 3"
    },
    "language_info": {
      "name": "python"
    }
  },
  "cells": [
    {
      "cell_type": "markdown",
      "metadata": {
        "id": "view-in-github",
        "colab_type": "text"
      },
      "source": [
        "<a href=\"https://colab.research.google.com/github/Gyurei/Tugas/blob/main/Horoskop.ipynb\" target=\"_parent\"><img src=\"https://colab.research.google.com/assets/colab-badge.svg\" alt=\"Open In Colab\"/></a>"
      ]
    },
    {
      "cell_type": "code",
      "execution_count": null,
      "metadata": {
        "id": "xQJy67x4QUyq"
      },
      "outputs": [],
      "source": [
        "nama = input(\"Masukan Nama Cowo Yg Lu Suka : \")\n",
        "nama2 = input(\"Masukan Nama Cewe Yg Lu Suka : \")\n",
        "persen = input(\"Masukan Kecocokan Lu Ama Dia : \")\n",
        "hasil = (nama + \"Dan\" + nama2 + \"Memiliki Kecocokan Sebanyak\" + persen+\"%\")\n",
        "print(hasil)"
      ]
    }
  ]
}